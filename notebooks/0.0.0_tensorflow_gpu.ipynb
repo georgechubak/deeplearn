{
 "cells": [
  {
   "cell_type": "code",
   "execution_count": 66,
   "id": "4dd82070",
   "metadata": {},
   "outputs": [],
   "source": [
    "import tensorflow as tf\n",
    "from tensorflow import keras\n",
    "from tensorflow.python.client import device_lib\n",
    "import numpy as np\n",
    "import time"
   ]
  },
  {
   "cell_type": "markdown",
   "id": "13f635da",
   "metadata": {},
   "source": [
    "#### Are there any GPUs?"
   ]
  },
  {
   "cell_type": "code",
   "execution_count": 34,
   "id": "acd8fce6",
   "metadata": {},
   "outputs": [
    {
     "data": {
      "text/plain": [
       "'2.5.0-rc0'"
      ]
     },
     "execution_count": 34,
     "metadata": {},
     "output_type": "execute_result"
    }
   ],
   "source": [
    "tf.__version__"
   ]
  },
  {
   "cell_type": "code",
   "execution_count": 35,
   "id": "cc1416a7",
   "metadata": {},
   "outputs": [
    {
     "data": {
      "text/plain": [
       "'2.5.0'"
      ]
     },
     "execution_count": 35,
     "metadata": {},
     "output_type": "execute_result"
    }
   ],
   "source": [
    "keras.__version__"
   ]
  },
  {
   "cell_type": "code",
   "execution_count": 36,
   "id": "aa20ea54",
   "metadata": {},
   "outputs": [
    {
     "name": "stdout",
     "output_type": "stream",
     "text": [
      "['/device:CPU:0', '/device:GPU:0']\n"
     ]
    }
   ],
   "source": [
    "def get_available_devices():\n",
    "    local_device_protos = device_lib.list_local_devices()\n",
    "    return [x.name for x in local_device_protos]\n",
    "print(get_available_devices()) "
   ]
  },
  {
   "cell_type": "markdown",
   "id": "32ad03d9",
   "metadata": {},
   "source": [
    "#### Check CPU vs GPU performance"
   ]
  },
  {
   "cell_type": "code",
   "execution_count": 81,
   "id": "c77fd017",
   "metadata": {},
   "outputs": [],
   "source": [
    "def count_seconds(matrix, num_runs=5, device='gpu'):\n",
    "    runtimes = []    \n",
    "    for i in range(num_runs):\n",
    "        start = time.perf_counter()\n",
    "        with tf.device(f'/{device}:0'):\n",
    "            a = tf.constant(matrix, shape=[*matrix.shape], dtype=tf.float32, name='a')\n",
    "            b = tf.constant(matrix, shape=[*matrix.shape], dtype=tf.float32, name='b')\n",
    "            c = tf.matmul(a, b)\n",
    "        elapsed = time.perf_counter() - start\n",
    "        runtimes.append(elapsed)\n",
    "    print(f'Elapsed {np.mean(runtimes):.3f} +/- {np.std(runtimes)/np.sqrt(num_runs):.3f} seconds on {device}.')\n",
    "    return np.mean(runtimes)"
   ]
  },
  {
   "cell_type": "code",
   "execution_count": 82,
   "id": "18dbdad9",
   "metadata": {},
   "outputs": [
    {
     "name": "stdout",
     "output_type": "stream",
     "text": [
      "Elapsed 0.000 +/- 0.000 seconds on cpu.\n",
      "Elapsed 0.005 +/- 0.004 seconds on gpu.\n",
      "Elapsed 0.000 +/- 0.000 seconds on cpu.\n",
      "Elapsed 0.001 +/- 0.001 seconds on gpu.\n",
      "Elapsed 0.000 +/- 0.000 seconds on cpu.\n",
      "Elapsed 0.000 +/- 0.000 seconds on gpu.\n",
      "Elapsed 0.000 +/- 0.000 seconds on cpu.\n",
      "Elapsed 0.001 +/- 0.000 seconds on gpu.\n",
      "Elapsed 0.001 +/- 0.000 seconds on cpu.\n",
      "Elapsed 0.001 +/- 0.000 seconds on gpu.\n",
      "Elapsed 0.005 +/- 0.000 seconds on cpu.\n",
      "Elapsed 0.003 +/- 0.000 seconds on gpu.\n",
      "Elapsed 0.075 +/- 0.000 seconds on cpu.\n",
      "Elapsed 0.016 +/- 0.002 seconds on gpu.\n",
      "Elapsed 0.552 +/- 0.002 seconds on cpu.\n",
      "Elapsed 0.096 +/- 0.008 seconds on gpu.\n",
      "Elapsed 1.844 +/- 0.013 seconds on cpu.\n",
      "Elapsed 0.252 +/- 0.007 seconds on gpu.\n",
      "Elapsed 4.329 +/- 0.032 seconds on cpu.\n",
      "Elapsed 0.518 +/- 0.039 seconds on gpu.\n"
     ]
    }
   ],
   "source": [
    "cpu_runtimes = []\n",
    "gpu_runtimes = []\n",
    "\n",
    "Ns = [10, 50, 100, 250, 500, 1000, 2500, 5000, 7500, 10000]\n",
    "\n",
    "for N in Ns:\n",
    "    matrix = np.random.randn(N, N).astype(np.float32)\n",
    "    cpu_runtimes.append(count_seconds(matrix, num_runs=3, device='cpu'))\n",
    "    gpu_runtimes.append(count_seconds(matrix, num_runs=3, device='gpu'))"
   ]
  },
  {
   "cell_type": "code",
   "execution_count": 83,
   "id": "b131ed86",
   "metadata": {},
   "outputs": [],
   "source": [
    "import matplotlib.pyplot as plt"
   ]
  },
  {
   "cell_type": "code",
   "execution_count": 84,
   "id": "5eeef008",
   "metadata": {},
   "outputs": [
    {
     "data": {
      "image/png": "[encoded data removed]",
      "text/plain": [
       "<Figure size 432x288 with 1 Axes>"
      ]
     },
     "metadata": {
      "needs_background": "light"
     },
     "output_type": "display_data"
    }
   ],
   "source": [
    "plt.loglog(Ns, cpu_runtimes, '-o', label='CPU')\n",
    "plt.loglog(Ns, gpu_runtimes, '-o', label='GPU')\n",
    "\n",
    "plt.legend()\n",
    "plt.ylabel('Execution time (s)')\n",
    "plt.xlabel('Matrix size')\n",
    "\n",
    "plt.show()"
   ]
  },
  {
   "cell_type": "code",
   "execution_count": null,
   "id": "b6e84616",
   "metadata": {},
   "outputs": [],
   "source": []
  }
 ],
 "metadata": {
  "kernelspec": {
   "display_name": "Python [conda env:deeplearn] *",
   "language": "python",
   "name": "conda-env-deeplearn-py"
  },
  "language_info": {
   "codemirror_mode": {
    "name": "ipython",
    "version": 3
   },
   "file_extension": ".py",
   "mimetype": "text/x-python",
   "name": "python",
   "nbconvert_exporter": "python",
   "pygments_lexer": "ipython3",
   "version": "3.9.2"
  }
 },
 "nbformat": 4,
 "nbformat_minor": 5
}
